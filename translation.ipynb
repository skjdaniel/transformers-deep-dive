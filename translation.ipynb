{
 "cells": [
  {
   "cell_type": "markdown",
   "metadata": {},
   "source": [
    "# translation"
   ]
  },
  {
   "cell_type": "markdown",
   "metadata": {},
   "source": [
    "### Imports"
   ]
  },
  {
   "cell_type": "code",
   "execution_count": 43,
   "metadata": {},
   "outputs": [
    {
     "ename": "ModuleNotFoundError",
     "evalue": "No module named 'torchtext'",
     "output_type": "error",
     "traceback": [
      "\u001b[1;31m---------------------------------------------------------------------------\u001b[0m",
      "\u001b[1;31mModuleNotFoundError\u001b[0m                       Traceback (most recent call last)",
      "Cell \u001b[1;32mIn[43], line 12\u001b[0m\n\u001b[0;32m      9\u001b[0m \u001b[38;5;28;01mimport\u001b[39;00m \u001b[38;5;21;01mrandom\u001b[39;00m\n\u001b[0;32m     11\u001b[0m \u001b[38;5;28;01mimport\u001b[39;00m \u001b[38;5;21;01mtorch\u001b[39;00m\n\u001b[1;32m---> 12\u001b[0m \u001b[38;5;28;01mfrom\u001b[39;00m \u001b[38;5;21;01mtorchtext\u001b[39;00m\u001b[38;5;21;01m.\u001b[39;00m\u001b[38;5;21;01mdata\u001b[39;00m\u001b[38;5;21;01m.\u001b[39;00m\u001b[38;5;21;01mutils\u001b[39;00m \u001b[38;5;28;01mimport\u001b[39;00m get_tokenizer\n",
      "\u001b[1;31mModuleNotFoundError\u001b[0m: No module named 'torchtext'"
     ]
    }
   ],
   "source": [
    "from io import open\n",
    "\n",
    "import unicodedata\n",
    "import re\n",
    "\n",
    "import numpy as np\n",
    "import matplotlib.pyplot as plt\n",
    "\n",
    "import random\n",
    "\n",
    "import torch\n",
    "from torchtext.data.utils import get_tokenizer"
   ]
  },
  {
   "cell_type": "markdown",
   "metadata": {},
   "source": [
    "### Data\n",
    "\n",
    "Downloaded from `https://download.pytorch.org/tutorial/data.zip`."
   ]
  },
  {
   "cell_type": "code",
   "execution_count": 14,
   "metadata": {},
   "outputs": [
    {
     "data": {
      "text/plain": [
       "135842"
      ]
     },
     "execution_count": 14,
     "metadata": {},
     "output_type": "execute_result"
    }
   ],
   "source": [
    "with open('data/eng-fra.txt', encoding='utf-8') as f:\n",
    "    lines = f.read().strip().split('\\n')\n",
    "\n",
    "len(lines)"
   ]
  },
  {
   "cell_type": "code",
   "execution_count": 34,
   "metadata": {},
   "outputs": [
    {
     "name": "stdout",
     "output_type": "stream",
     "text": [
      "English: A fire broke out after the earthquake.\n",
      "French: Un incendie s'est déclaré après le tremblement de terre.\n",
      "\n",
      "English: I don't really want you mad at me.\n",
      "French: Je ne veux pas vraiment que tu sois en colère après moi.\n",
      "\n",
      "English: She didn't know what to say to him.\n",
      "French: Elle ne sut pas quoi lui dire.\n",
      "\n",
      "English: Can you come into my office, please?\n",
      "French: Pouvez-vous venir dans mon bureau, s'il vous plaît ?\n",
      "\n",
      "English: I'm so unlucky!\n",
      "French: Quelle poisse j'ai !\n",
      "\n",
      "English: Sleep tight.\n",
      "French: Dormez bien.\n",
      "\n",
      "English: Tom had better hurry or he'll miss the bus.\n",
      "French: Tom ferait mieux de se dépêcher ou il ratera le bus.\n",
      "\n",
      "English: I won't let you die.\n",
      "French: Je ne te laisserai pas mourir.\n",
      "\n",
      "English: Why did he do such a thing?\n",
      "French: Pourquoi a-t-il fait une telle chose ?\n",
      "\n",
      "English: Are you sure you didn't do anything?\n",
      "French: Es-tu certain de n'avoir rien fait ?\n",
      "\n",
      "English: Why are people scared of you?\n",
      "French: Pourquoi les gens ont-ils peur de vous ?\n",
      "\n",
      "English: She blamed him for all her problems.\n",
      "French: Elle lui mit sur le dos tous ses problèmes.\n",
      "\n",
      "English: Tell me what I did wrong.\n",
      "French: Dites-moi ce que j'ai fait de travers !\n",
      "\n",
      "English: I'm going on a trip.\n",
      "French: Je pars en voyage.\n",
      "\n",
      "English: When I was strolling along the beach this morning, I found this bottle.\n",
      "French: Alors que je me promenais sur la plage ce matin, j'ai trouvé cette bouteille.\n",
      "\n"
     ]
    }
   ],
   "source": [
    "random_draws = random.sample(range(len(lines)), 15)\n",
    "random_lines = [lines[i] for i in random_draws] \n",
    "\n",
    "\n",
    "for example in random_lines:\n",
    "    pair = example.split('\\t')\n",
    "    print(f'English: {pair[0]}')\n",
    "    print(f'French: {pair[1]}')\n",
    "    print()"
   ]
  },
  {
   "cell_type": "code",
   "execution_count": 40,
   "metadata": {},
   "outputs": [],
   "source": [
    "MAX_SENTENCE_LENGTH = 20"
   ]
  },
  {
   "cell_type": "code",
   "execution_count": 35,
   "metadata": {},
   "outputs": [],
   "source": [
    "def unicodeToAscii(s):\n",
    "    return ''.join(\n",
    "      c for c in unicodedata.normalize('NFD', s) \n",
    "      if unicodedata.category(c) != 'Mn'\n",
    "    )"
   ]
  },
  {
   "cell_type": "code",
   "execution_count": 36,
   "metadata": {},
   "outputs": [
    {
     "name": "stdout",
     "output_type": "stream",
     "text": [
      "English: A fire broke out after the earthquake.\n",
      "French: Un incendie s'est declare apres le tremblement de terre.\n",
      "\n",
      "English: I don't really want you mad at me.\n",
      "French: Je ne veux pas vraiment que tu sois en colere apres moi.\n",
      "\n",
      "English: She didn't know what to say to him.\n",
      "French: Elle ne sut pas quoi lui dire.\n",
      "\n",
      "English: Can you come into my office, please?\n",
      "French: Pouvez-vous venir dans mon bureau, s'il vous plait ?\n",
      "\n",
      "English: I'm so unlucky!\n",
      "French: Quelle poisse j'ai !\n",
      "\n",
      "English: Sleep tight.\n",
      "French: Dormez bien.\n",
      "\n",
      "English: Tom had better hurry or he'll miss the bus.\n",
      "French: Tom ferait mieux de se depecher ou il ratera le bus.\n",
      "\n",
      "English: I won't let you die.\n",
      "French: Je ne te laisserai pas mourir.\n",
      "\n",
      "English: Why did he do such a thing?\n",
      "French: Pourquoi a-t-il fait une telle chose ?\n",
      "\n",
      "English: Are you sure you didn't do anything?\n",
      "French: Es-tu certain de n'avoir rien fait ?\n",
      "\n",
      "English: Why are people scared of you?\n",
      "French: Pourquoi les gens ont-ils peur de vous ?\n",
      "\n",
      "English: She blamed him for all her problems.\n",
      "French: Elle lui mit sur le dos tous ses problemes.\n",
      "\n",
      "English: Tell me what I did wrong.\n",
      "French: Dites-moi ce que j'ai fait de travers !\n",
      "\n",
      "English: I'm going on a trip.\n",
      "French: Je pars en voyage.\n",
      "\n",
      "English: When I was strolling along the beach this morning, I found this bottle.\n",
      "French: Alors que je me promenais sur la plage ce matin, j'ai trouve cette bouteille.\n",
      "\n"
     ]
    }
   ],
   "source": [
    "for example in random_lines:\n",
    "    pair = example.split('\\t')\n",
    "    print(f'English: {unicodeToAscii(pair[0])}')\n",
    "    print(f'French: {unicodeToAscii(pair[1])}')\n",
    "    print()"
   ]
  },
  {
   "cell_type": "code",
   "execution_count": 30,
   "metadata": {},
   "outputs": [],
   "source": [
    "def normalizeString(s):\n",
    "    s = unicodeToAscii(s.lower().strip())\n",
    "    s = re.sub(r\"[^a-zA-Z.!?]+\", \" \", s)\n",
    "    return s"
   ]
  },
  {
   "cell_type": "code",
   "execution_count": 37,
   "metadata": {},
   "outputs": [
    {
     "name": "stdout",
     "output_type": "stream",
     "text": [
      "English: a fire broke out after the earthquake.\n",
      "French: un incendie s est declare apres le tremblement de terre.\n",
      "\n",
      "English: i don t really want you mad at me.\n",
      "French: je ne veux pas vraiment que tu sois en colere apres moi.\n",
      "\n",
      "English: she didn t know what to say to him.\n",
      "French: elle ne sut pas quoi lui dire.\n",
      "\n",
      "English: can you come into my office please?\n",
      "French: pouvez vous venir dans mon bureau s il vous plait ?\n",
      "\n",
      "English: i m so unlucky!\n",
      "French: quelle poisse j ai !\n",
      "\n",
      "English: sleep tight.\n",
      "French: dormez bien.\n",
      "\n",
      "English: tom had better hurry or he ll miss the bus.\n",
      "French: tom ferait mieux de se depecher ou il ratera le bus.\n",
      "\n",
      "English: i won t let you die.\n",
      "French: je ne te laisserai pas mourir.\n",
      "\n",
      "English: why did he do such a thing?\n",
      "French: pourquoi a t il fait une telle chose ?\n",
      "\n",
      "English: are you sure you didn t do anything?\n",
      "French: es tu certain de n avoir rien fait ?\n",
      "\n",
      "English: why are people scared of you?\n",
      "French: pourquoi les gens ont ils peur de vous ?\n",
      "\n",
      "English: she blamed him for all her problems.\n",
      "French: elle lui mit sur le dos tous ses problemes.\n",
      "\n",
      "English: tell me what i did wrong.\n",
      "French: dites moi ce que j ai fait de travers !\n",
      "\n",
      "English: i m going on a trip.\n",
      "French: je pars en voyage.\n",
      "\n",
      "English: when i was strolling along the beach this morning i found this bottle.\n",
      "French: alors que je me promenais sur la plage ce matin j ai trouve cette bouteille.\n",
      "\n"
     ]
    }
   ],
   "source": [
    "for example in random_lines:\n",
    "    pair = example.split('\\t')\n",
    "    print(f'English: {normalizeString(pair[0])}')\n",
    "    print(f'French: {normalizeString(pair[1])}')\n",
    "    print()"
   ]
  },
  {
   "cell_type": "code",
   "execution_count": 38,
   "metadata": {},
   "outputs": [],
   "source": [
    "def filter_pairs(pairs, max_length):\n",
    "    return [pair for pair in pairs if len(pair[0].split(' ')) < max_length and len(pair[1].split(' ')) < max_length]"
   ]
  },
  {
   "cell_type": "code",
   "execution_count": 39,
   "metadata": {},
   "outputs": [],
   "source": [
    "def prepare_data(lines, max_length):\n",
    "    pairs = [[normalizeString(s) for s in l.split('\\t')] for l in lines]\n",
    "    pairs = filter_pairs(pairs, max_length)\n",
    "    return pairs    "
   ]
  },
  {
   "cell_type": "code",
   "execution_count": 41,
   "metadata": {},
   "outputs": [],
   "source": [
    "pairs = prepare_data(lines, max_length=MAX_SENTENCE_LENGTH)"
   ]
  },
  {
   "cell_type": "code",
   "execution_count": 42,
   "metadata": {},
   "outputs": [
    {
     "data": {
      "text/plain": [
       "135284"
      ]
     },
     "execution_count": 42,
     "metadata": {},
     "output_type": "execute_result"
    }
   ],
   "source": [
    "len(pairs)"
   ]
  },
  {
   "cell_type": "code",
   "execution_count": null,
   "metadata": {},
   "outputs": [],
   "source": []
  }
 ],
 "metadata": {
  "kernelspec": {
   "display_name": "transformers_deep_dive",
   "language": "python",
   "name": "python3"
  },
  "language_info": {
   "codemirror_mode": {
    "name": "ipython",
    "version": 3
   },
   "file_extension": ".py",
   "mimetype": "text/x-python",
   "name": "python",
   "nbconvert_exporter": "python",
   "pygments_lexer": "ipython3",
   "version": "3.11.10"
  }
 },
 "nbformat": 4,
 "nbformat_minor": 2
}
